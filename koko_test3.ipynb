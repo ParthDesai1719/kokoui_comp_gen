{
  "nbformat": 4,
  "nbformat_minor": 0,
  "metadata": {
    "colab": {
      "provenance": [],
      "gpuType": "T4"
    },
    "kernelspec": {
      "name": "python3",
      "display_name": "Python 3"
    },
    "language_info": {
      "name": "python"
    },
    "accelerator": "GPU"
  },
  "cells": [
    {
      "cell_type": "code",
      "execution_count": null,
      "metadata": {
        "colab": {
          "base_uri": "https://localhost:8080/",
          "height": 126
        },
        "id": "aCF6ib8r8rKA",
        "outputId": "b6127d6c-401f-4351-9685-29fb7c875591"
      },
      "outputs": [
        {
          "output_type": "stream",
          "name": "stderr",
          "text": [
            "WARNING:xformers:WARNING[XFORMERS]: xFormers can't load C++/CUDA extensions. xFormers was built for:\n",
            "    PyTorch 2.7.0+cu126 with CUDA 1206 (you have 2.6.0+cu124)\n",
            "    Python  3.11.12 (you have 3.11.13)\n",
            "  Please reinstall xformers (see https://github.com/facebookresearch/xformers#installing-xformers)\n",
            "  Memory-efficient attention, SwiGLU, sparse and more won't be available.\n",
            "  Set XFORMERS_MORE_DETAILS=1 for more details\n"
          ]
        }
      ],
      "source": [
        "%%capture\n",
        "# ⬇️ Install dependencies (Colab-compatible)\n",
        "!pip install \"unsloth[colab-new] @ git+https://github.com/unslothai/unsloth.git\"\n",
        "from torch import __version__ as torch_version\n",
        "from packaging.version import Version as V\n",
        "xformers_version = \"xformers==0.0.27\" if V(torch_version) < V(\"2.4.0\") else \"xformers\"\n",
        "!pip install --no-deps {xformers_version} trl transformers peft accelerate bitsandbytes triton gradio scikit-learn datasets\n",
        "!pip install -U bitsandbytes\n",
        "\n",
        "# ✅ Load and Clean Dataset\n",
        "import re, json, requests\n",
        "from datasets import Dataset\n",
        "\n",
        "url = \"https://raw.githubusercontent.com/ParthDesai1719/kokoui_comp_gen/main/koko_ui.jsonl\"\n",
        "raw = requests.get(url).text.strip().split(\"\\n\")\n",
        "\n",
        "cleaned = []\n",
        "for line in raw:\n",
        "    item = json.loads(line)\n",
        "    code = re.sub(r\"//.*?$\", \"\", item[\"code\"], flags=re.MULTILINE)\n",
        "    code = re.sub(r\"/\\*.*?\\*/\", \"\", code, flags=re.DOTALL)\n",
        "    cleaned.append({\n",
        "        \"input\": item[\"prompt\"].strip(),\n",
        "        \"output\": code.strip(),\n",
        "        \"text\": f\"<|user|>\\n{item['prompt'].strip()}\\n<|assistant|>\\n{code.strip()}\"\n",
        "    })\n",
        "\n",
        "hf_dataset = Dataset.from_list(cleaned)\n",
        "\n",
        "# ✅ Load Model\n",
        "from unsloth import FastLanguageModel\n",
        "import torch\n",
        "\n",
        "model, tokenizer = FastLanguageModel.from_pretrained(\n",
        "    model_name=\"unsloth/llama-3-8b-Instruct\",\n",
        "    max_seq_length=2048,\n",
        "    dtype=torch.float16,\n",
        "    load_in_4bit=True,\n",
        ")\n",
        "\n",
        "tokenizer.pad_token = tokenizer.eos_token\n",
        "\n",
        "# ✅ Tokenize\n",
        "from transformers import TrainingArguments, Trainer\n",
        "\n",
        "def tokenize_function(examples):\n",
        "    tokens = tokenizer(\n",
        "        examples[\"text\"],\n",
        "        padding=\"max_length\",\n",
        "        truncation=True,\n",
        "        max_length=512,\n",
        "        return_tensors=None\n",
        "    )\n",
        "    tokens[\"labels\"] = tokens[\"input_ids\"].copy()\n",
        "    return tokens\n",
        "\n",
        "tokenized_dataset = hf_dataset.map(tokenize_function, batched=True, remove_columns=hf_dataset.column_names)\n",
        "\n",
        "# ✅ Apply LoRA\n",
        "model = FastLanguageModel.get_peft_model(\n",
        "    model,\n",
        "    r=8,\n",
        "    lora_alpha=16,\n",
        "    lora_dropout=0.05,\n",
        "    bias=\"none\",\n",
        "    use_gradient_checkpointing=True,\n",
        "    random_state=42,\n",
        "    target_modules=[\n",
        "        \"q_proj\", \"k_proj\", \"v_proj\", \"o_proj\",\n",
        "        \"gate_proj\", \"up_proj\", \"down_proj\", \"lm_head\",\n",
        "    ],\n",
        ")\n",
        "\n",
        "# ✅ Train\n",
        "training_args = TrainingArguments(\n",
        "    output_dir=\"shadcn_llama3_finetuned_trainer\",\n",
        "    per_device_train_batch_size=2,\n",
        "    gradient_accumulation_steps=4,\n",
        "    max_steps=250,\n",
        "    learning_rate=2e-5,\n",
        "    fp16=True,\n",
        "    optim=\"paged_adamw_32bit\",\n",
        "    logging_steps=10,\n",
        "    save_strategy=\"no\",\n",
        "    report_to=\"none\",\n",
        ")\n",
        "\n",
        "trainer = Trainer(\n",
        "    model=model,\n",
        "    args=training_args,\n",
        "    train_dataset=tokenized_dataset,\n",
        "    tokenizer=tokenizer,\n",
        ")\n",
        "\n",
        "trainer.train()\n",
        "FastLanguageModel.for_inference(model)"
      ]
    },
    {
      "cell_type": "code",
      "source": [
        "import gradio as gr\n",
        "import torch\n",
        "def generate_shadcn(prompt: str) -> str:\n",
        "    # Construct prompt with consistent structure\n",
        "    full_prompt = f\"<|user|>\\n{prompt.strip()}\\n<|assistant|>\\n\"\n",
        "\n",
        "    # Tokenize prompt\n",
        "    inputs = tokenizer(full_prompt, return_tensors=\"pt\").to(model.device)\n",
        "\n",
        "    # Generate response\n",
        "    with torch.no_grad():\n",
        "        outputs = model.generate(\n",
        "            **inputs,\n",
        "            max_new_tokens=512,\n",
        "            do_sample=False,  # disable randomness\n",
        "            top_p=0.95,\n",
        "            temperature=0.7,\n",
        "            repetition_penalty=1.2,\n",
        "            eos_token_id=tokenizer.eos_token_id,\n",
        "            pad_token_id=tokenizer.pad_token_id,\n",
        "        )\n",
        "\n",
        "    # Decode output\n",
        "    decoded = tokenizer.decode(outputs[0], skip_special_tokens=True)\n",
        "\n",
        "    # Strip to only get assistant's response\n",
        "    if \"<|assistant|>\" in decoded:\n",
        "        result = decoded.split(\"<|assistant|>\")[-1].strip()\n",
        "    else:\n",
        "        result = decoded\n",
        "\n",
        "    # Final fallback\n",
        "    return result if result and len(result) > 10 else \"⚠️ Output too short or malformed. Try again or fine-tune better.\"\n",
        "\n",
        "\n",
        "gr.Interface(\n",
        "    fn=generate_shadcn,\n",
        "    inputs=gr.Textbox(\n",
        "        lines=3,\n",
        "        placeholder=\"Describe the ShadCN component you want (e.g. Create a dialog with title, description, and confirm button)\",\n",
        "        label=\"Your Prompt\"\n",
        "    ),\n",
        "    outputs=gr.Code(label=\"Generated ShadCN Component\", language=\"javascript\"),\n",
        "    title=\"🛠️ ShadCN Component Generator\",\n",
        "    description=\"Enter a descriptive prompt to generate a React component using ShadCN UI. No explanation, just clean code.\"\n",
        ").launch(share=True)\n"
      ],
      "metadata": {
        "colab": {
          "base_uri": "https://localhost:8080/",
          "height": 614
        },
        "id": "rZJby2JyRtKM",
        "outputId": "11fe3c15-c7c1-4a5e-b86b-fdf83ca7129a"
      },
      "execution_count": null,
      "outputs": [
        {
          "output_type": "stream",
          "name": "stdout",
          "text": [
            "Colab notebook detected. To show errors in colab notebook, set debug=True in launch()\n",
            "* Running on public URL: https://030d10804c77c7788d.gradio.live\n",
            "\n",
            "This share link expires in 1 week. For free permanent hosting and GPU upgrades, run `gradio deploy` from the terminal in the working directory to deploy to Hugging Face Spaces (https://huggingface.co/spaces)\n"
          ]
        },
        {
          "output_type": "display_data",
          "data": {
            "text/plain": [
              "<IPython.core.display.HTML object>"
            ],
            "text/html": [
              "<div><iframe src=\"https://030d10804c77c7788d.gradio.live\" width=\"100%\" height=\"500\" allow=\"autoplay; camera; microphone; clipboard-read; clipboard-write;\" frameborder=\"0\" allowfullscreen></iframe></div>"
            ]
          },
          "metadata": {}
        },
        {
          "output_type": "execute_result",
          "data": {
            "text/plain": []
          },
          "metadata": {},
          "execution_count": 9
        }
      ]
    }
  ]
}